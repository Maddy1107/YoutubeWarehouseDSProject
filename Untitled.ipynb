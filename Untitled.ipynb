{
 "cells": [
  {
   "cell_type": "code",
   "execution_count": 4,
   "id": "3adb0b79-0c31-4281-8ceb-f9e2fc97f41e",
   "metadata": {},
   "outputs": [],
   "source": [
    "from googleapiclient.discovery import build\n",
    "import Scripts.constants as c\n",
    "\n",
    "youtube = build(c.api_service_name,c.api_version,developerKey=c.api_key)\n"
   ]
  },
  {
   "cell_type": "code",
   "execution_count": 6,
   "id": "99efc283-5439-4f52-a5b2-fe279af20009",
   "metadata": {},
   "outputs": [
    {
     "data": {
      "text/plain": [
       "[{'Channel_id': 'UC0b8dMrZqJMMC-4WGk-h0wg',\n",
       "  'Channel_name': 'Nilankar Deb',\n",
       "  'Playlist_id': 'UU0b8dMrZqJMMC-4WGk-h0wg',\n",
       "  'Subscribers': '1710',\n",
       "  'Views': '86501',\n",
       "  'Total_videos': '108',\n",
       "  'Description': 'Hi guys, \\nI am Nilankar and I will share videos of parts of my life and journey.\\nI love travelling around and want you all to feel the same and see the world with me.\\nJoin me on my journey to places.\\n\\nFor business purposes, \\nEmail me at-\\nnilankar11@gmail.com\\nWhatsapp - \\n8101240181\\n\\nOther contacts - \\nFacebook- https://www.facebook.com/nilankar.deb2/\\nInstagram- https://www.instagram.com/nil.maddy11\\nFacebook Page- https://www.facebook.com/PRVlogs\\n',\n",
       "  'Country': 'IN'}]"
      ]
     },
     "execution_count": 6,
     "metadata": {},
     "output_type": "execute_result"
    }
   ],
   "source": [
    "# FUNCTION TO GET CHANNEL DETAILS\n",
    "def get_channel_details(channel_id):\n",
    "    ch_data = []\n",
    "\n",
    "    request = youtube.channels().list(\n",
    "        part=\"snippet,contentDetails,statistics\", id=channel_id\n",
    "    )\n",
    "    response = request.execute()\n",
    "\n",
    "    data = dict(\n",
    "        Channel_id=channel_id,\n",
    "        Channel_name=response[\"items\"][0][\"snippet\"][\"title\"],\n",
    "        Playlist_id=response[\"items\"][0][\"contentDetails\"][\"relatedPlaylists\"][\n",
    "            \"uploads\"\n",
    "        ],\n",
    "        Subscribers=response[\"items\"][0][\"statistics\"][\"subscriberCount\"],\n",
    "        Views=response[\"items\"][0][\"statistics\"][\"viewCount\"],\n",
    "        Total_videos=response[\"items\"][0][\"statistics\"][\"videoCount\"],\n",
    "        Description=response[\"items\"][0][\"snippet\"][\"description\"],\n",
    "        Country=response[\"items\"][0][\"snippet\"].get('country')\n",
    "    )\n",
    "    ch_data.append(data)\n",
    "    return ch_data\n",
    "\n",
    "get_channel_details('UC0b8dMrZqJMMC-4WGk-h0wg')"
   ]
  },
  {
   "cell_type": "code",
   "execution_count": 9,
   "id": "014ec0f7-eb5b-4ab8-a8d6-37a9353fecb1",
   "metadata": {},
   "outputs": [
    {
     "data": {
      "text/plain": [
       "108"
      ]
     },
     "execution_count": 9,
     "metadata": {},
     "output_type": "execute_result"
    }
   ],
   "source": [
    "def get_channel_videos(channel_id):\n",
    "\n",
    "    video_ids = []\n",
    "\n",
    "    # Finding the uploads playlist id\n",
    "    response = youtube.channels().list(part=\"contentDetails\", id=channel_id).execute()\n",
    "\n",
    "    playlist_id = response[\"items\"][0][\"contentDetails\"][\"relatedPlaylists\"][\"uploads\"]\n",
    "    next_page_token = None\n",
    "\n",
    "    while True:\n",
    "        res = (\n",
    "            youtube.playlistItems()\n",
    "            .list(\n",
    "                playlistId=playlist_id,\n",
    "                part=\"snippet\",\n",
    "                maxResults=50,\n",
    "                pageToken=next_page_token,\n",
    "            )\n",
    "            .execute()\n",
    "        )\n",
    "\n",
    "        for i in range(len(res['items'])):\n",
    "            video_ids.append(res['items'][i]['snippet']['resourceId']['videoId'])\n",
    "        next_page_token = res.get('nextPageToken')\n",
    "\n",
    "        if next_page_token is None:\n",
    "            break\n",
    "\n",
    "    return video_ids,playlist_id\n",
    "\n",
    "video,play = get_channel_videos('UC0b8dMrZqJMMC-4WGk-h0wg')\n",
    "len(video)"
   ]
  },
  {
   "cell_type": "code",
   "execution_count": null,
   "id": "d0a04e57",
   "metadata": {},
   "outputs": [],
   "source": []
  }
 ],
 "metadata": {
  "kernelspec": {
   "display_name": "Python 3 (ipykernel)",
   "language": "python",
   "name": "python3"
  },
  "language_info": {
   "codemirror_mode": {
    "name": "ipython",
    "version": 3
   },
   "file_extension": ".py",
   "mimetype": "text/x-python",
   "name": "python",
   "nbconvert_exporter": "python",
   "pygments_lexer": "ipython3",
   "version": "3.12.2"
  }
 },
 "nbformat": 4,
 "nbformat_minor": 5
}
